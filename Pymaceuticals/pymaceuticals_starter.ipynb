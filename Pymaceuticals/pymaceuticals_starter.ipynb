{
 "cells": [
  {
   "cell_type": "markdown",
   "metadata": {},
   "source": [
    "## Observations and Insights"
   ]
  },
  {
   "cell_type": "markdown",
   "metadata": {},
   "source": [
    "After reviewing the data following observations can be made:\n",
    "1. Two drug regimens had the highest number of data points: \"Capomulin\" and \"Ramicane\". It maybe because the drugs were effective on tumors and helped with mouse survival over the study time.\n",
    "2. For an effective results all outside variable were accounted for including mouse sex which has an equal number of male and female mouse in the study.\n",
    "3. After plotting \"Tumor Volume\" size against \"Timepoint\" for a mouse (b128) on \"Capomulin\" drug regimen it can be observed that the Capomulin Drug helped in reduction of tumor volume in the mouse over time.\n",
    "4. It can also be observed that there is a positive correlation between \"Mouse Weight\" and \"Tumor Volume\" which is further clarified after running a regression line analysis which gave us the a line slope of .95 and intercept of 21.55. It can be inferred that the tumor volume is impacting the mouse weight. As the tumor volume grows so does the mouse weight."
   ]
  },
  {
   "cell_type": "markdown",
   "metadata": {},
   "source": [
    "## Dependencies and starter code"
   ]
  },
  {
   "cell_type": "code",
   "execution_count": 1,
   "metadata": {},
   "outputs": [
    {
     "data": {
      "text/html": [
       "<div>\n",
       "<style scoped>\n",
       "    .dataframe tbody tr th:only-of-type {\n",
       "        vertical-align: middle;\n",
       "    }\n",
       "\n",
       "    .dataframe tbody tr th {\n",
       "        vertical-align: top;\n",
       "    }\n",
       "\n",
       "    .dataframe thead th {\n",
       "        text-align: right;\n",
       "    }\n",
       "</style>\n",
       "<table border=\"1\" class=\"dataframe\">\n",
       "  <thead>\n",
       "    <tr style=\"text-align: right;\">\n",
       "      <th></th>\n",
       "      <th>Mouse ID</th>\n",
       "      <th>Timepoint</th>\n",
       "      <th>Tumor Volume (mm3)</th>\n",
       "      <th>Metastatic Sites</th>\n",
       "      <th>Drug Regimen</th>\n",
       "      <th>Sex</th>\n",
       "      <th>Age_months</th>\n",
       "      <th>Weight (g)</th>\n",
       "    </tr>\n",
       "  </thead>\n",
       "  <tbody>\n",
       "    <tr>\n",
       "      <th>0</th>\n",
       "      <td>b128</td>\n",
       "      <td>0</td>\n",
       "      <td>45.000000</td>\n",
       "      <td>0</td>\n",
       "      <td>Capomulin</td>\n",
       "      <td>Female</td>\n",
       "      <td>9</td>\n",
       "      <td>22</td>\n",
       "    </tr>\n",
       "    <tr>\n",
       "      <th>1</th>\n",
       "      <td>f932</td>\n",
       "      <td>0</td>\n",
       "      <td>45.000000</td>\n",
       "      <td>0</td>\n",
       "      <td>Ketapril</td>\n",
       "      <td>Male</td>\n",
       "      <td>15</td>\n",
       "      <td>29</td>\n",
       "    </tr>\n",
       "    <tr>\n",
       "      <th>2</th>\n",
       "      <td>g107</td>\n",
       "      <td>0</td>\n",
       "      <td>45.000000</td>\n",
       "      <td>0</td>\n",
       "      <td>Ketapril</td>\n",
       "      <td>Female</td>\n",
       "      <td>2</td>\n",
       "      <td>29</td>\n",
       "    </tr>\n",
       "    <tr>\n",
       "      <th>3</th>\n",
       "      <td>a457</td>\n",
       "      <td>0</td>\n",
       "      <td>45.000000</td>\n",
       "      <td>0</td>\n",
       "      <td>Ketapril</td>\n",
       "      <td>Female</td>\n",
       "      <td>11</td>\n",
       "      <td>30</td>\n",
       "    </tr>\n",
       "    <tr>\n",
       "      <th>4</th>\n",
       "      <td>c819</td>\n",
       "      <td>0</td>\n",
       "      <td>45.000000</td>\n",
       "      <td>0</td>\n",
       "      <td>Ketapril</td>\n",
       "      <td>Male</td>\n",
       "      <td>21</td>\n",
       "      <td>25</td>\n",
       "    </tr>\n",
       "    <tr>\n",
       "      <th>...</th>\n",
       "      <td>...</td>\n",
       "      <td>...</td>\n",
       "      <td>...</td>\n",
       "      <td>...</td>\n",
       "      <td>...</td>\n",
       "      <td>...</td>\n",
       "      <td>...</td>\n",
       "      <td>...</td>\n",
       "    </tr>\n",
       "    <tr>\n",
       "      <th>1888</th>\n",
       "      <td>r944</td>\n",
       "      <td>45</td>\n",
       "      <td>41.581521</td>\n",
       "      <td>2</td>\n",
       "      <td>Capomulin</td>\n",
       "      <td>Male</td>\n",
       "      <td>12</td>\n",
       "      <td>25</td>\n",
       "    </tr>\n",
       "    <tr>\n",
       "      <th>1889</th>\n",
       "      <td>u364</td>\n",
       "      <td>45</td>\n",
       "      <td>31.023923</td>\n",
       "      <td>3</td>\n",
       "      <td>Capomulin</td>\n",
       "      <td>Male</td>\n",
       "      <td>18</td>\n",
       "      <td>17</td>\n",
       "    </tr>\n",
       "    <tr>\n",
       "      <th>1890</th>\n",
       "      <td>p438</td>\n",
       "      <td>45</td>\n",
       "      <td>61.433892</td>\n",
       "      <td>1</td>\n",
       "      <td>Ceftamin</td>\n",
       "      <td>Female</td>\n",
       "      <td>11</td>\n",
       "      <td>26</td>\n",
       "    </tr>\n",
       "    <tr>\n",
       "      <th>1891</th>\n",
       "      <td>x773</td>\n",
       "      <td>45</td>\n",
       "      <td>58.634971</td>\n",
       "      <td>4</td>\n",
       "      <td>Placebo</td>\n",
       "      <td>Female</td>\n",
       "      <td>21</td>\n",
       "      <td>30</td>\n",
       "    </tr>\n",
       "    <tr>\n",
       "      <th>1892</th>\n",
       "      <td>b879</td>\n",
       "      <td>45</td>\n",
       "      <td>72.555239</td>\n",
       "      <td>2</td>\n",
       "      <td>Stelasyn</td>\n",
       "      <td>Female</td>\n",
       "      <td>4</td>\n",
       "      <td>26</td>\n",
       "    </tr>\n",
       "  </tbody>\n",
       "</table>\n",
       "<p>1893 rows × 8 columns</p>\n",
       "</div>"
      ],
      "text/plain": [
       "     Mouse ID  Timepoint  Tumor Volume (mm3)  Metastatic Sites Drug Regimen  \\\n",
       "0        b128          0           45.000000                 0    Capomulin   \n",
       "1        f932          0           45.000000                 0     Ketapril   \n",
       "2        g107          0           45.000000                 0     Ketapril   \n",
       "3        a457          0           45.000000                 0     Ketapril   \n",
       "4        c819          0           45.000000                 0     Ketapril   \n",
       "...       ...        ...                 ...               ...          ...   \n",
       "1888     r944         45           41.581521                 2    Capomulin   \n",
       "1889     u364         45           31.023923                 3    Capomulin   \n",
       "1890     p438         45           61.433892                 1     Ceftamin   \n",
       "1891     x773         45           58.634971                 4      Placebo   \n",
       "1892     b879         45           72.555239                 2     Stelasyn   \n",
       "\n",
       "         Sex  Age_months  Weight (g)  \n",
       "0     Female           9          22  \n",
       "1       Male          15          29  \n",
       "2     Female           2          29  \n",
       "3     Female          11          30  \n",
       "4       Male          21          25  \n",
       "...      ...         ...         ...  \n",
       "1888    Male          12          25  \n",
       "1889    Male          18          17  \n",
       "1890  Female          11          26  \n",
       "1891  Female          21          30  \n",
       "1892  Female           4          26  \n",
       "\n",
       "[1893 rows x 8 columns]"
      ]
     },
     "execution_count": 1,
     "metadata": {},
     "output_type": "execute_result"
    }
   ],
   "source": [
    "# Dependencies and Setup\n",
    "import matplotlib.pyplot as plt\n",
    "import pandas as pd\n",
    "import scipy.stats as st\n",
    "import numpy as np\n",
    "\n",
    "# Study data files\n",
    "mouse_metadata = \"data/Mouse_metadata.csv\"\n",
    "study_results = \"data/Study_results.csv\"\n",
    "\n",
    "# Read the mouse data and the study results\n",
    "mouse_metadata = pd.read_csv(mouse_metadata)\n",
    "study_results = pd.read_csv(study_results)\n",
    "\n",
    "# Combining the data into a single dataset using merge with left join\n",
    "merged_df = pd.merge(study_results,mouse_metadata, on = \"Mouse ID\", how=\"left\") \n",
    "\n",
    "# Printing results\n",
    "merged_df"
   ]
  },
  {
   "cell_type": "markdown",
   "metadata": {},
   "source": [
    "## Summary statistics"
   ]
  },
  {
   "cell_type": "code",
   "execution_count": 2,
   "metadata": {},
   "outputs": [
    {
     "data": {
      "text/html": [
       "<div>\n",
       "<style scoped>\n",
       "    .dataframe tbody tr th:only-of-type {\n",
       "        vertical-align: middle;\n",
       "    }\n",
       "\n",
       "    .dataframe tbody tr th {\n",
       "        vertical-align: top;\n",
       "    }\n",
       "\n",
       "    .dataframe thead th {\n",
       "        text-align: right;\n",
       "    }\n",
       "</style>\n",
       "<table border=\"1\" class=\"dataframe\">\n",
       "  <thead>\n",
       "    <tr style=\"text-align: right;\">\n",
       "      <th></th>\n",
       "      <th>Mean Tumor Volume</th>\n",
       "      <th>Median Tumor Volume</th>\n",
       "      <th>Variance Tumor Volume</th>\n",
       "      <th>Standard Deviation Tumor Volume</th>\n",
       "      <th>Standard Error Tumor Volume</th>\n",
       "    </tr>\n",
       "    <tr>\n",
       "      <th>Drug Regimen</th>\n",
       "      <th></th>\n",
       "      <th></th>\n",
       "      <th></th>\n",
       "      <th></th>\n",
       "      <th></th>\n",
       "    </tr>\n",
       "  </thead>\n",
       "  <tbody>\n",
       "    <tr>\n",
       "      <th>Capomulin</th>\n",
       "      <td>40.675741</td>\n",
       "      <td>41.557809</td>\n",
       "      <td>24.947764</td>\n",
       "      <td>4.994774</td>\n",
       "      <td>0.329346</td>\n",
       "    </tr>\n",
       "    <tr>\n",
       "      <th>Ceftamin</th>\n",
       "      <td>52.591172</td>\n",
       "      <td>51.776157</td>\n",
       "      <td>39.290177</td>\n",
       "      <td>6.268188</td>\n",
       "      <td>0.469821</td>\n",
       "    </tr>\n",
       "    <tr>\n",
       "      <th>Infubinol</th>\n",
       "      <td>52.884795</td>\n",
       "      <td>51.820584</td>\n",
       "      <td>43.128684</td>\n",
       "      <td>6.567243</td>\n",
       "      <td>0.492236</td>\n",
       "    </tr>\n",
       "    <tr>\n",
       "      <th>Ketapril</th>\n",
       "      <td>55.235638</td>\n",
       "      <td>53.698743</td>\n",
       "      <td>68.553577</td>\n",
       "      <td>8.279709</td>\n",
       "      <td>0.603860</td>\n",
       "    </tr>\n",
       "    <tr>\n",
       "      <th>Naftisol</th>\n",
       "      <td>54.331565</td>\n",
       "      <td>52.509285</td>\n",
       "      <td>66.173479</td>\n",
       "      <td>8.134708</td>\n",
       "      <td>0.596466</td>\n",
       "    </tr>\n",
       "    <tr>\n",
       "      <th>Placebo</th>\n",
       "      <td>54.033581</td>\n",
       "      <td>52.288934</td>\n",
       "      <td>61.168083</td>\n",
       "      <td>7.821003</td>\n",
       "      <td>0.581331</td>\n",
       "    </tr>\n",
       "    <tr>\n",
       "      <th>Propriva</th>\n",
       "      <td>52.322552</td>\n",
       "      <td>50.854632</td>\n",
       "      <td>42.351070</td>\n",
       "      <td>6.507770</td>\n",
       "      <td>0.512884</td>\n",
       "    </tr>\n",
       "    <tr>\n",
       "      <th>Ramicane</th>\n",
       "      <td>40.216745</td>\n",
       "      <td>40.673236</td>\n",
       "      <td>23.486704</td>\n",
       "      <td>4.846308</td>\n",
       "      <td>0.320955</td>\n",
       "    </tr>\n",
       "    <tr>\n",
       "      <th>Stelasyn</th>\n",
       "      <td>54.233149</td>\n",
       "      <td>52.431737</td>\n",
       "      <td>59.450562</td>\n",
       "      <td>7.710419</td>\n",
       "      <td>0.573111</td>\n",
       "    </tr>\n",
       "    <tr>\n",
       "      <th>Zoniferol</th>\n",
       "      <td>53.236507</td>\n",
       "      <td>51.818479</td>\n",
       "      <td>48.533355</td>\n",
       "      <td>6.966589</td>\n",
       "      <td>0.516398</td>\n",
       "    </tr>\n",
       "  </tbody>\n",
       "</table>\n",
       "</div>"
      ],
      "text/plain": [
       "              Mean Tumor Volume  Median Tumor Volume  Variance Tumor Volume  \\\n",
       "Drug Regimen                                                                  \n",
       "Capomulin             40.675741            41.557809              24.947764   \n",
       "Ceftamin              52.591172            51.776157              39.290177   \n",
       "Infubinol             52.884795            51.820584              43.128684   \n",
       "Ketapril              55.235638            53.698743              68.553577   \n",
       "Naftisol              54.331565            52.509285              66.173479   \n",
       "Placebo               54.033581            52.288934              61.168083   \n",
       "Propriva              52.322552            50.854632              42.351070   \n",
       "Ramicane              40.216745            40.673236              23.486704   \n",
       "Stelasyn              54.233149            52.431737              59.450562   \n",
       "Zoniferol             53.236507            51.818479              48.533355   \n",
       "\n",
       "              Standard Deviation Tumor Volume  Standard Error Tumor Volume  \n",
       "Drug Regimen                                                                \n",
       "Capomulin                            4.994774                     0.329346  \n",
       "Ceftamin                             6.268188                     0.469821  \n",
       "Infubinol                            6.567243                     0.492236  \n",
       "Ketapril                             8.279709                     0.603860  \n",
       "Naftisol                             8.134708                     0.596466  \n",
       "Placebo                              7.821003                     0.581331  \n",
       "Propriva                             6.507770                     0.512884  \n",
       "Ramicane                             4.846308                     0.320955  \n",
       "Stelasyn                             7.710419                     0.573111  \n",
       "Zoniferol                            6.966589                     0.516398  "
      ]
     },
     "execution_count": 2,
     "metadata": {},
     "output_type": "execute_result"
    }
   ],
   "source": [
    "# Generate a summary statistics table of mean, median, variance, standard deviation, and SEM \n",
    "# of the tumor volume for each regimen\n",
    "\n",
    "# Grouping on \"Drug Regimen\" for calculations\n",
    "group_regimen = merged_df.groupby(\"Drug Regimen\")\n",
    "\n",
    "# Calculating mean of grouped dataframe\n",
    "group_regimen_mean = group_regimen[\"Tumor Volume (mm3)\"].mean()\n",
    "\n",
    "# Calculating median of grouped dataframe\n",
    "group_regimen_median = group_regimen[\"Tumor Volume (mm3)\"].median()\n",
    "\n",
    "# Calculating variance of grouped dataframe\n",
    "group_regimen_var = group_regimen[\"Tumor Volume (mm3)\"].var()\n",
    "\n",
    "# Calculating standard deviation of grouped dataframe\n",
    "group_regimen_std = group_regimen[\"Tumor Volume (mm3)\"].std()\n",
    "\n",
    "# Calculating SEM of grouped dataframe\n",
    "group_regimen_sem = group_regimen[\"Tumor Volume (mm3)\"].sem()\n",
    "group_regimen_sem\n",
    "\n",
    "# Creating summary dataframe and adding columns to grouped dataframe\n",
    "summary_df = pd.DataFrame(group_regimen_mean)\n",
    "summary_df = summary_df.rename(columns = {\"Tumor Volume (mm3)\":\"Mean Tumor Volume\"})\n",
    "summary_df[\"Median Tumor Volume\"] = group_regimen_median\n",
    "summary_df[\"Variance Tumor Volume\"] = group_regimen_var\n",
    "summary_df[\"Standard Deviation Tumor Volume\"] = group_regimen_std\n",
    "summary_df[\"Standard Error Tumor Volume\"] = group_regimen_sem\n",
    "\n",
    "# Printing results\n",
    "summary_df"
   ]
  },
  {
   "cell_type": "markdown",
   "metadata": {},
   "source": [
    "## Bar plots"
   ]
  },
  {
   "cell_type": "code",
   "execution_count": 29,
   "metadata": {},
   "outputs": [
    {
     "data": {
      "image/png": "[encoded data removed]",
      "text/plain": [
       "<Figure size 432x288 with 1 Axes>"
      ]
     },
     "metadata": {
      "needs_background": "light"
     },
     "output_type": "display_data"
    }
   ],
   "source": [
    "# Generate a bar plot showing number of data points for each treatment regimen using pandas\n",
    "\n",
    "# Creating counts data frame on column \"Timepoint\". All columns have same count\n",
    "data_count = group_regimen[\"Timepoint\"].count()\n",
    "\n",
    "# Creating Bar chart using pandas .plot and setting title and y-axis label\n",
    "data_count.plot(kind = \"bar\", color = \"red\", alpha = .5, title = \"Number of Data Points for Each Treatment Regimen\").set(ylabel=\"Number of Counts\")\n",
    "\n",
    "# Printing results\n",
    "plt.show()"
   ]
  },
  {
   "cell_type": "code",
   "execution_count": 28,
   "metadata": {},
   "outputs": [
    {
     "data": {
      "image/png": "[encoded data removed]",
      "text/plain": [
       "<Figure size 432x288 with 1 Axes>"
      ]
     },
     "metadata": {
      "needs_background": "light"
     },
     "output_type": "display_data"
    }
   ],
   "source": [
    "# Generate a bar plot showing number of data points for each treatment regimen using pyplot\n",
    "\n",
    "# Assigning x-axis as the index column of dataframe\n",
    "x_axis = data_count.keys()\n",
    "\n",
    "# Printing bar chart with bar with of .5\n",
    "plt.bar(x_axis, data_count, width = .5, color = \"red\", alpha = .5)\n",
    "\n",
    "# Rotating x-axis labels to 90 for readability\n",
    "plt.xticks(rotation=90)\n",
    "\n",
    "# Setting limits of x-axis, changing title, x and y axis labels\n",
    "plt.xlim(-.5,9.5)\n",
    "plt.title(\"Number of Data Points for Each Treatment Regimen\")\n",
    "plt.xlabel(\"Drug Regimen\")\n",
    "plt.ylabel(\"Number of Counts\")\n",
    "\n",
    "# Printing results\n",
    "plt.show()"
   ]
  },
  {
   "cell_type": "markdown",
   "metadata": {},
   "source": [
    "## Pie plots"
   ]
  },
  {
   "cell_type": "code",
   "execution_count": 26,
   "metadata": {},
   "outputs": [
    {
     "data": {
      "image/png": "[encoded data removed]",
      "text/plain": [
       "<Figure size 432x288 with 1 Axes>"
      ]
     },
     "metadata": {},
     "output_type": "display_data"
    }
   ],
   "source": [
    "# Generate a pie plot showing the distribution of female versus male mice using pandas\n",
    "\n",
    "# Grouping by \"Sex\" for creating a new dataframe for calculations\n",
    "grouped_sex = mouse_metadata.groupby(\"Sex\")\n",
    "grouped_sex = grouped_sex[\"Sex\"].count()\n",
    "\n",
    "# Defining explode variable for formatting\n",
    "explode = [.05,0]\n",
    "\n",
    "# Plotting pie chart using .plot\n",
    "grouped_sex.plot(kind = \"pie\", title = \"Mouse Male vs Female Ratio\", autopct='%1.2f%%', explode = explode,startangle=45, shadow = True)\n",
    "plt.ylabel(None)\n",
    "\n",
    "# Printing results\n",
    "plt.show()"
   ]
  },
  {
   "cell_type": "code",
   "execution_count": 6,
   "metadata": {},
   "outputs": [
    {
     "data": {
      "image/png": "[encoded data removed]",
      "text/plain": [
       "<Figure size 432x288 with 1 Axes>"
      ]
     },
     "metadata": {},
     "output_type": "display_data"
    }
   ],
   "source": [
    "# Generate a pie plot showing the distribution of female versus male mice using pyplot\n",
    "\n",
    "# Plotting pie chart using .pyplot\n",
    "plt.pie(grouped_sex, labels=[\"Female\",\"Male\"], autopct='%1.2f%%', explode = explode, startangle=45, shadow = True)\n",
    "plt.title(\"Mouse Male vs Female Ratio\")\n",
    "\n",
    "# Printing results\n",
    "plt.show()"
   ]
  },
  {
   "cell_type": "markdown",
   "metadata": {},
   "source": [
    "## Quartiles, outliers and boxplots"
   ]
  },
  {
   "cell_type": "code",
   "execution_count": 7,
   "metadata": {},
   "outputs": [
    {
     "name": "stdout",
     "output_type": "stream",
     "text": [
      "No outlier found in Capomulin Tumor Volume Data\n",
      "No outlier found in Ramicane Tumor Volume Data\n",
      "No outlier found in Ceftamin Tumor Volume Data\n",
      "\u001b[1mOUTLIERS FOUND IN INFOBINOL TUMOR VOLUME DATA\u001b[0m\n"
     ]
    },
    {
     "data": {
      "text/html": [
       "<div>\n",
       "<style scoped>\n",
       "    .dataframe tbody tr th:only-of-type {\n",
       "        vertical-align: middle;\n",
       "    }\n",
       "\n",
       "    .dataframe tbody tr th {\n",
       "        vertical-align: top;\n",
       "    }\n",
       "\n",
       "    .dataframe thead th {\n",
       "        text-align: right;\n",
       "    }\n",
       "</style>\n",
       "<table border=\"1\" class=\"dataframe\">\n",
       "  <thead>\n",
       "    <tr style=\"text-align: right;\">\n",
       "      <th></th>\n",
       "      <th>Tumor Volume (mm3)</th>\n",
       "    </tr>\n",
       "    <tr>\n",
       "      <th>Mouse ID</th>\n",
       "      <th></th>\n",
       "    </tr>\n",
       "  </thead>\n",
       "  <tbody>\n",
       "    <tr>\n",
       "      <th>c326</th>\n",
       "      <td>36.321346</td>\n",
       "    </tr>\n",
       "  </tbody>\n",
       "</table>\n",
       "</div>"
      ],
      "text/plain": [
       "          Tumor Volume (mm3)\n",
       "Mouse ID                    \n",
       "c326               36.321346"
      ]
     },
     "metadata": {},
     "output_type": "display_data"
    }
   ],
   "source": [
    "# Calculate the final tumor volume of each mouse across four of the most promising treatment regimens. \n",
    "# Calculate the IQR and quantitatively determine if there are any potential outliers.\n",
    "\n",
    "# Sorting merged table by Mouse ID and Timepoint in ascending order\n",
    "sorted_df = merged_df.sort_values([\"Mouse ID\",\"Timepoint\"])\n",
    "\n",
    "# List of shortlisted drugs\n",
    "shortlisted_drugs = [\"Capomulin\", \"Ramicane\", \"Infubinol\",\"Ceftamin\"]\n",
    "\n",
    "# Defining \"Drug Regimen\" as index and collecting data of only shortlisted drugs\n",
    "short_table = sorted_df.set_index(\"Drug Regimen\")\n",
    "short_table = short_table.loc[shortlisted_drugs,[\"Tumor Volume (mm3)\",\"Mouse ID\",\"Timepoint\",\"Weight (g)\"]]\n",
    "\n",
    "# Grouping by \"Drug Regimen\" and \"Mouse ID\" and getting the last row of all the \"Mouse ID\"\n",
    "drug_grouped_last = short_table.groupby([\"Drug Regimen\",\"Mouse ID\"]).last()\n",
    "\n",
    "# Gathering \"Final Tumor Volume\" data for shortlisted drugs individually\n",
    "capomulin_volume = drug_grouped_last.loc[\"Capomulin\",\"Tumor Volume (mm3)\"]\n",
    "ramicane_volume = drug_grouped_last.loc[\"Ramicane\",\"Tumor Volume (mm3)\"]\n",
    "infobinol_volume = drug_grouped_last.loc[\"Infubinol\",\"Tumor Volume (mm3)\"]\n",
    "ceftamin_volume = drug_grouped_last.loc[\"Ceftamin\",\"Tumor Volume (mm3)\"]\n",
    "\n",
    "# Defining quartiles of regimens\n",
    "cap_quartiles = capomulin_volume.quantile([.25,.5,.75])\n",
    "ram_quartiles = ramicane_volume.quantile([.25,.5,.75])\n",
    "inf_quartiles = infobinol_volume.quantile([.25,.5,.75])\n",
    "cef_quartiles = ceftamin_volume.quantile([.25,.5,.75])\n",
    "\n",
    "# Defining lower quartiles of regimens\n",
    "cap_lowerq = cap_quartiles[.25]\n",
    "ram_lowerq = ram_quartiles[.25]\n",
    "inf_lowerq = inf_quartiles[.25]\n",
    "cef_lowerq = cef_quartiles[.25]\n",
    "\n",
    "# Defining upper quartiles of regimens\n",
    "cap_upperq = cap_quartiles[.75]\n",
    "ram_upperq = ram_quartiles[.75]\n",
    "inf_upperq = inf_quartiles[.75]\n",
    "cef_upperq = cef_quartiles[.75]\n",
    "\n",
    "# Defining IQR of regimens\n",
    "cap_iqr = cap_upperq - cap_lowerq\n",
    "ram_iqr = ram_upperq - ram_lowerq\n",
    "inf_iqr = inf_upperq - inf_lowerq\n",
    "cef_iqr = cef_upperq - cef_lowerq\n",
    "\n",
    "# Defining lower bounds for regimens\n",
    "cap_lb = cap_lowerq - (1.5*cap_iqr)\n",
    "ram_lb = ram_lowerq - (1.5*ram_iqr)\n",
    "inf_lb = inf_lowerq - (1.5*inf_iqr)\n",
    "cef_lb = cef_lowerq - (1.5*cef_iqr)\n",
    "\n",
    "# Defining upper bounds for regimens\n",
    "cap_ub = cap_upperq + (1.5*cap_iqr)\n",
    "ram_ub = ram_upperq + (1.5*ram_iqr)\n",
    "inf_ub = inf_upperq + (1.5*inf_iqr)\n",
    "cef_ub = cef_upperq + (1.5*cef_iqr)\n",
    "\n",
    "# Converting to dataframe for calculations\n",
    "cap_data = pd.DataFrame(capomulin_volume)\n",
    "ram_data = pd.DataFrame(ramicane_volume)\n",
    "inf_data = pd.DataFrame(infobinol_volume)\n",
    "cef_data = pd.DataFrame(ceftamin_volume)\n",
    "\n",
    "# Outlier identification\n",
    "cap_out = cap_data.loc[(cap_data[\"Tumor Volume (mm3)\"] < cap_lb) | (cap_data[\"Tumor Volume (mm3)\"] > cap_ub),:]\n",
    "ram_out = ram_data.loc[(ram_data[\"Tumor Volume (mm3)\"] < ram_lb) | (ram_data[\"Tumor Volume (mm3)\"] > ram_ub),:]\n",
    "inf_out = inf_data.loc[(inf_data[\"Tumor Volume (mm3)\"] < inf_lb) | (inf_data[\"Tumor Volume (mm3)\"] > inf_ub),:]\n",
    "cef_out = cef_data.loc[(cef_data[\"Tumor Volume (mm3)\"] < cef_lb) | (cef_data[\"Tumor Volume (mm3)\"] > cef_ub),:]\n",
    "\n",
    "# Printing results if outlier found and not found\n",
    "if cap_out[\"Tumor Volume (mm3)\"].empty :\n",
    "    print(\"No outlier found in Capomulin Tumor Volume Data\")\n",
    "else:\n",
    "    print(\"\\033[1m\"+\"OUTLIERS FOUND IN CAPOMULIN TUMOR VOLUME DATA\"+\"\\033[0m\")\n",
    "    display(cap_out)\n",
    "\n",
    "if ram_out[\"Tumor Volume (mm3)\"].empty :\n",
    "    print(\"No outlier found in Ramicane Tumor Volume Data\")\n",
    "else:\n",
    "    print(\"\\033[1m\"+\"OUTLIERS FOUND IN RAMICANE TUMOR VOLUME DATA\"+\"\\033[0m\")\n",
    "    display(ram_out)\n",
    "    \n",
    "if cef_out[\"Tumor Volume (mm3)\"].empty :\n",
    "    print(\"No outlier found in Ceftamin Tumor Volume Data\")\n",
    "else:\n",
    "    print(\"\\033[1m\"+\"OUTLIERS FOUND IN CEFTAMIN TUMOR VOLUME DATA\"+\"\\033[0m\")\n",
    "    display(cef_out)\n",
    "    \n",
    "if inf_out[\"Tumor Volume (mm3)\"].empty :\n",
    "    print(\"No outlier found in Infobinol Tumor Volume Data\")\n",
    "else:\n",
    "    print(\"\\033[1m\"+\"OUTLIERS FOUND IN INFOBINOL TUMOR VOLUME DATA\"+\"\\033[0m\")\n",
    "    display(inf_out)\n"
   ]
  },
  {
   "cell_type": "code",
   "execution_count": 8,
   "metadata": {},
   "outputs": [
    {
     "data": {
      "image/png": "[encoded data removed]",
      "text/plain": [
       "<Figure size 432x288 with 1 Axes>"
      ]
     },
     "metadata": {
      "needs_background": "light"
     },
     "output_type": "display_data"
    }
   ],
   "source": [
    "# Generate a box plot of the final tumor volume of each mouse across four regimens of interest\n",
    "\n",
    "# Defining list of Data for Box plot\n",
    "drug_data = [capomulin_volume,ramicane_volume,infobinol_volume,ceftamin_volume]\n",
    "\n",
    "# Defining color and marker for outlier\n",
    "red_diamond = dict(markerfacecolor='r', marker='D', markeredgewidth=False, alpha = .6)\n",
    "\n",
    "# ploting boxplot with title, labels and changing styles\n",
    "fig, ax = plt.subplots()\n",
    "ax.set_title('Box & Wisker Plot for\\n Shortlisted Four Regimens', pad=15, fontsize=15, fontweight=\"bold\")\n",
    "ax.boxplot(drug_data, flierprops=red_diamond,labels = shortlisted_drugs)\n",
    "plt.ylabel(\"Final Tumor Volume / Mouse\", color = \"g\", labelpad = 10, fontsize=13)\n",
    "plt.xlabel(\"Drug Regimen\", color = \"g\", labelpad=10, fontsize=13)\n",
    "\n",
    "# Printing results\n",
    "plt.show()"
   ]
  },
  {
   "cell_type": "markdown",
   "metadata": {},
   "source": [
    "## Line and scatter plots"
   ]
  },
  {
   "cell_type": "code",
   "execution_count": 30,
   "metadata": {},
   "outputs": [
    {
     "data": {
      "image/png": "[encoded data removed]",
      "text/plain": [
       "<Figure size 432x288 with 1 Axes>"
      ]
     },
     "metadata": {
      "needs_background": "light"
     },
     "output_type": "display_data"
    }
   ],
   "source": [
    "# Generate a line plot of time point versus tumor volume for a mouse treated with Capomulin\n",
    "\n",
    "# Setting \"Mouse ID\" as index for loc\n",
    "new_table = sorted_df.set_index(\"Mouse ID\")\n",
    "\n",
    "# Sorting valuse by Drug Regiment and Mouse ID\n",
    "mouse_sorted = new_table.sort_values([\"Drug Regimen\",\"Mouse ID\"])\n",
    "\n",
    "# Shortlisted Mouse\n",
    "mouse = [\"b128\"]\n",
    "\n",
    "# Selecting mouse and fetching \"Timepoint\" and \"Tumor Volume (mm3)\" data\n",
    "mouse_table = mouse_sorted.loc[mouse,[\"Timepoint\",\"Tumor Volume (mm3)\"]]\n",
    "\n",
    "# Ploting graph and formating\n",
    "mouse_table.plot (x = \"Timepoint\", y = \"Tumor Volume (mm3)\", kind = \"line\", color = \"g\", legend=None)\n",
    "plt.title(f\"MOUSE: {mouse[0]} | TUMOR VOLUME OVER TIME\", pad=15, fontsize=12, fontweight=\"bold\")\n",
    "plt.ylabel(\"Tumor Volume (mm3)\", color = \"g\", labelpad = 10, fontsize=13)\n",
    "plt.xlabel(\"Timepoint\", color = \"g\", labelpad=10, fontsize=13)\n",
    "plt.xlim(0,45)\n",
    "\n",
    "plt.grid(True)\n",
    "\n",
    "# Printing Results\n",
    "plt.show()"
   ]
  },
  {
   "cell_type": "code",
   "execution_count": 10,
   "metadata": {},
   "outputs": [
    {
     "data": {
      "image/png": "[encoded data removed]",
      "text/plain": [
       "<Figure size 432x288 with 1 Axes>"
      ]
     },
     "metadata": {
      "needs_background": "light"
     },
     "output_type": "display_data"
    }
   ],
   "source": [
    "\n",
    "# Generate a scatter plot of mouse weight versus average tumor volume for the Capomulin regimen\n",
    "\n",
    "# Creating new Dataframe with grouped on \"Drug Regimen\" and \"Mouse ID\" and getting mean value\n",
    "drug_grouped_mean = short_table.groupby([\"Drug Regimen\",\"Mouse ID\"]).mean()\n",
    "\n",
    "# Isolating capomulin data for \"weight\" of mouse and \"average tumor volume\" data\n",
    "capomulin_short = drug_grouped_mean.loc[\"Capomulin\",[\"Tumor Volume (mm3)\",\"Weight (g)\"]]\n",
    "\n",
    "# Ploting the scatter plot with formating\n",
    "capomulin_short.plot.scatter(x = \"Weight (g)\", y = \"Tumor Volume (mm3)\", c = \"g\", alpha = .6)\n",
    "plt.title (\"Mouse Weight vs Average Tumor Volume\\n(Capomulin)\", pad=15, fontsize=13, fontweight=\"bold\")\n",
    "plt.ylabel(\"Tumor Volume (mm3)\", color = \"g\", labelpad = 10, fontsize=13)\n",
    "plt.xlabel('Weight (g)', color = \"g\", labelpad=10, fontsize=13)\n",
    "\n",
    "# Printing results\n",
    "plt.show()"
   ]
  },
  {
   "cell_type": "code",
   "execution_count": 19,
   "metadata": {},
   "outputs": [
    {
     "name": "stdout",
     "output_type": "stream",
     "text": [
      "Correlation coefficient between mouse weight and average tumor volume is 0.84\n"
     ]
    },
    {
     "data": {
      "image/png": "[encoded data removed]",
      "text/plain": [
       "<Figure size 432x288 with 1 Axes>"
      ]
     },
     "metadata": {
      "needs_background": "light"
     },
     "output_type": "display_data"
    }
   ],
   "source": [
    "# Calculate the correlation coefficient and linear regression model for mouse weight \n",
    "# and average tumor volume for the Capomulin regimen\n",
    "\n",
    "# Defining columns for correlation calculations\n",
    "mouse_weight = capomulin_short[\"Weight (g)\"]\n",
    "tumor_volume = capomulin_short[\"Tumor Volume (mm3)\"]\n",
    "\n",
    "# Calculating correlation and printing result\n",
    "correlation = st.pearsonr(mouse_weight,tumor_volume)\n",
    "print(f\"Correlation coefficient between mouse weight and average tumor volume is {round(correlation[0],2)}\")\n",
    "\n",
    "# Running regression on the data for plotting\n",
    "x_value = mouse_weight\n",
    "y_value = tumor_volume\n",
    "(slope, intercept, rvalue, pvalue, stderr) = st.linregress(x_value,y_value)\n",
    "regress_value = x_value*slope + intercept\n",
    "line_eq = f\"y = {round(slope,2)}x + {round(intercept,2)}\"\n",
    "\n",
    "# Plotting scatter plot and regression line on same graph and formating\n",
    "plt.scatter(x_value,y_value, color = \"g\", alpha = .6, label = \"Scatter Points\")\n",
    "plt.plot(x_value,regress_value,\"b-\",alpha = .5, label = \"Regression Line\")\n",
    "plt.title (\"Mouse Weight vs Average Tumor Volume\\n(Capomulin)\", pad=15, fontsize=13, fontweight=\"bold\")\n",
    "plt.ylabel(\"Tumor Volume (mm3)\", color = \"g\", labelpad = 10, fontsize=13)\n",
    "plt.xlabel('Weight (g)', color = \"g\", labelpad=10, fontsize=13)\n",
    "\n",
    "# Adding line equation and legends to the plot\n",
    "plt.annotate(line_eq,(20,38))\n",
    "plt.legend()\n",
    "\n",
    "# Printing results\n",
    "plt.show()"
   ]
  },
  {
   "cell_type": "code",
   "execution_count": null,
   "metadata": {},
   "outputs": [],
   "source": []
  }
 ],
 "metadata": {
  "anaconda-cloud": {},
  "kernelspec": {
   "display_name": "Python 3",
   "language": "python",
   "name": "python3"
  },
  "language_info": {
   "codemirror_mode": {
    "name": "ipython",
    "version": 3
   },
   "file_extension": ".py",
   "mimetype": "text/x-python",
   "name": "python",
   "nbconvert_exporter": "python",
   "pygments_lexer": "ipython3",
   "version": "3.7.6"
  }
 },
 "nbformat": 4,
 "nbformat_minor": 2
}
